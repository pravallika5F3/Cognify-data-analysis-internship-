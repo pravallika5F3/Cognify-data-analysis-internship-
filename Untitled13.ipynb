{
  "nbformat": 4,
  "nbformat_minor": 0,
  "metadata": {
    "colab": {
      "provenance": []
    },
    "kernelspec": {
      "name": "python3",
      "display_name": "Python 3"
    },
    "language_info": {
      "name": "python"
    }
  },
  "cells": [
    {
      "cell_type": "markdown",
      "source": [
        "Task -1"
      ],
      "metadata": {
        "id": "I9j9Kn77kaKl"
      }
    },
    {
      "cell_type": "code",
      "execution_count": 10,
      "metadata": {
        "colab": {
          "base_uri": "https://localhost:8080/"
        },
        "id": "hw-_FjNYjwZF",
        "outputId": "3b095f56-4ca2-49fa-81b5-8c06e5793672"
      },
      "outputs": [
        {
          "output_type": "stream",
          "name": "stdout",
          "text": [
            "Top Three Cuisines:\n",
            "North Indian    3960\n",
            "Chinese         2735\n",
            "Fast Food       1986\n",
            "dtype: int64\n",
            "\n",
            "Percentage of Restaurants Serving Each of the Top Cuisines:\n",
            "North Indian    41.461627\n",
            "Chinese         28.635745\n",
            "Fast Food       20.793634\n",
            "dtype: float64\n"
          ]
        }
      ],
      "source": [
        "import pandas as pd\n",
        "\n",
        "# Load the dataset\n",
        "df = pd.read_csv('Dataset.csv')\n",
        "\n",
        "# Split the cuisines column and expand it into separate rows\n",
        "cuisines_df = df['Cuisines'].str.split(', ', expand=True).stack()\n",
        "\n",
        "# Get the top three most common cuisines\n",
        "top_cuisines = cuisines_df.value_counts().head(3)\n",
        "\n",
        "# Calculate the total number of restaurants\n",
        "total_restaurants = len(df)\n",
        "\n",
        "# Calculate the percentage of restaurants that serve each of the top cuisines\n",
        "percentage_of_restaurants = (top_cuisines / total_restaurants) * 100\n",
        "\n",
        "# Print the results\n",
        "print(\"Top Three Cuisines:\")\n",
        "print(top_cuisines)\n",
        "\n",
        "print(\"\\nPercentage of Restaurants Serving Each of the Top Cuisines:\")\n",
        "print(percentage_of_restaurants)"
      ]
    },
    {
      "cell_type": "markdown",
      "source": [
        "Task-2"
      ],
      "metadata": {
        "id": "GIQfbGeFkeOI"
      }
    },
    {
      "cell_type": "code",
      "source": [
        "import pandas as pd\n",
        "\n",
        "# Load the dataset\n",
        "df = pd.read_csv('Dataset.csv')\n",
        "\n",
        "# Identify the city with the highest number of restaurants\n",
        "city_with_highest_restaurants = df['City'].value_counts().idxmax()\n",
        "\n",
        "# Calculate the average rating for restaurants in each city\n",
        "average_ratings_by_city = df.groupby('City')['Aggregate rating'].mean()\n",
        "\n",
        "# Determine the city with the highest average rating\n",
        "city_with_highest_average_rating = average_ratings_by_city.idxmax()\n",
        "\n",
        "# Print the results\n",
        "print(\"City with the Highest Number of Restaurants:\", city_with_highest_restaurants)\n",
        "\n",
        "print(\"\\nAverage Ratings for Restaurants in Each City:\")\n",
        "print(average_ratings_by_city)\n",
        "\n",
        "print(\"\\nCity with the Highest Average Rating:\", city_with_highest_average_rating)"
      ],
      "metadata": {
        "colab": {
          "base_uri": "https://localhost:8080/"
        },
        "id": "QbnkvFZykWvn",
        "outputId": "e722fb5f-dd4a-451d-80fc-689e13c3c471"
      },
      "execution_count": 11,
      "outputs": [
        {
          "output_type": "stream",
          "name": "stdout",
          "text": [
            "City with the Highest Number of Restaurants: New Delhi\n",
            "\n",
            "Average Ratings for Restaurants in Each City:\n",
            "City\n",
            "Abu Dhabi          4.300000\n",
            "Agra               3.965000\n",
            "Ahmedabad          4.161905\n",
            "Albany             3.555000\n",
            "Allahabad          3.395000\n",
            "                     ...   \n",
            "Weirton            3.900000\n",
            "Wellington City    4.250000\n",
            "Winchester Bay     3.200000\n",
            "Yorkton            3.300000\n",
            "��stanbul          4.292857\n",
            "Name: Aggregate rating, Length: 141, dtype: float64\n",
            "\n",
            "City with the Highest Average Rating: Inner City\n"
          ]
        }
      ]
    },
    {
      "cell_type": "markdown",
      "source": [
        "Task-3"
      ],
      "metadata": {
        "id": "P1RQC3xykl8w"
      }
    },
    {
      "cell_type": "code",
      "source": [
        "import pandas as pd\n",
        "import matplotlib.pyplot as plt\n",
        "\n",
        "# Load the dataset\n",
        "df = pd.read_csv('Dataset.csv')\n",
        "\n",
        "# Create a histogram or bar chart to visualize the distribution of price ranges\n",
        "price_range_counts = df['Price range'].value_counts().sort_index()\n",
        "\n",
        "# Calculate the percentage of restaurants in each price range category\n",
        "total_restaurants = len(df)\n",
        "percentage_in_each_category = (price_range_counts / total_restaurants) * 100\n",
        "\n",
        "# Plot the histogram or bar chart\n",
        "plt.figure(figsize=(8, 6))\n",
        "price_range_counts.plot(kind='bar', color='skyblue', alpha=0.7)\n",
        "plt.xlabel('Price Range')\n",
        "plt.ylabel('Number of Restaurants')\n",
        "plt.title('Distribution of Price Ranges Among Restaurants')\n",
        "plt.xticks(rotation=0)\n",
        "\n",
        "# Display the percentage of restaurants in each price range category on the chart\n",
        "for i, count in enumerate(price_range_counts):\n",
        "    plt.text(i, count, f'{percentage_in_each_category.iloc[i]:.2f}%', ha='center', va='bottom')\n",
        "\n",
        "plt.tight_layout()\n",
        "plt.show()"
      ],
      "metadata": {
        "colab": {
          "base_uri": "https://localhost:8080/",
          "height": 607
        },
        "id": "j-nYCCO-knuc",
        "outputId": "657f01c5-f201-4fdb-8c82-ee62ded5023b"
      },
      "execution_count": 12,
      "outputs": [
        {
          "output_type": "display_data",
          "data": {
            "text/plain": [
              "<Figure size 800x600 with 1 Axes>"
            ],
            "image/png": "[encoded data removed]"
          },
          "metadata": {}
        }
      ]
    },
    {
      "cell_type": "markdown",
      "source": [
        "Task - 4"
      ],
      "metadata": {
        "id": "BjKUkK1zkwQk"
      }
    },
    {
      "cell_type": "code",
      "source": [
        "import pandas as pd\n",
        "\n",
        "# Load the dataset\n",
        "df = pd.read_csv('Dataset.csv')\n",
        "\n",
        "# Determine the percentage of restaurants that offer online delivery\n",
        "restaurants_with_online_delivery = df[df['Has Online delivery'] == 'Yes']\n",
        "percentage_with_online_delivery = (len(restaurants_with_online_delivery) / len(df)) * 100\n",
        "\n",
        "# Compare the average ratings of restaurants with and without online delivery\n",
        "average_rating_with_online_delivery = restaurants_with_online_delivery['Aggregate rating'].mean()\n",
        "average_rating_without_online_delivery = df[df['Has Online delivery'] == 'No']['Aggregate rating'].mean()\n",
        "\n",
        "# Print the results\n",
        "print(f\"Percentage of Restaurants with Online Delivery: {percentage_with_online_delivery:.2f}%\")\n",
        "print(f\"Average Rating for Restaurants with Online Delivery: {average_rating_with_online_delivery:.2f}\")\n",
        "print(f\"Average Rating for Restaurants without Online Delivery: {average_rating_without_online_delivery:.2f}\")\n"
      ],
      "metadata": {
        "colab": {
          "base_uri": "https://localhost:8080/"
        },
        "id": "hrTMtMn3kx16",
        "outputId": "c51f514d-84a8-49b9-b641-8deb6b0afcf2"
      },
      "execution_count": 13,
      "outputs": [
        {
          "output_type": "stream",
          "name": "stdout",
          "text": [
            "Percentage of Restaurants with Online Delivery: 25.66%\n",
            "Average Rating for Restaurants with Online Delivery: 3.25\n",
            "Average Rating for Restaurants without Online Delivery: 2.47\n"
          ]
        }
      ]
    }
  ]
}